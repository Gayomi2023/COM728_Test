{
 "cells": [
  {
   "cell_type": "markdown",
   "id": "1cd8cc27",
   "metadata": {},
   "source": [
    "# Week 1: Data Type, Variables, Input & Output"
   ]
  },
  {
   "cell_type": "markdown",
   "id": "9bd47a9d",
   "metadata": {},
   "source": [
    "<font size=\"5\">**Learning Objectives**</font><br>\n",
    "<font size=\"3\">After this session, you should be able to:</font>\n",
    "- <font size=\"3\">identify numeric data type</font>\n",
    "- <font size=\"3\">identify character and string</font>\n",
    "- <font size=\"3\">initialise and use variables with appropriate names using appropriate style conventions</font>\n",
    "- <font size=\"3\">construct a simple Python program that performs inputs</font>\n",
    "- <font size=\"3\">construct a simple Python program that performs outputs</font>\n",
    "- <font size=\"3\">construct a simple Python program that performs basic calculations</font>"
   ]
  },
  {
   "cell_type": "markdown",
   "id": "1048d662",
   "metadata": {},
   "source": [
    "***"
   ]
  },
  {
   "cell_type": "markdown",
   "id": "5c327d77",
   "metadata": {},
   "source": [
    "# Data Type"
   ]
  },
  {
   "cell_type": "markdown",
   "id": "1f867468",
   "metadata": {},
   "source": [
    "- <font size=\"3\">A data type consists of <span style=\"color: blue;\">a set of values</span> and <span style=\"color: blue;\">a set of operations</span> that can be performed on those values</font>\n",
    "- <font size=\"3\">Python has four primitive data types (the simplest forms of representing data):</font>\n",
    "    - <font size=\"3\">Integer</font>\n",
    "    - <font size=\"3\">Float</font>\n",
    "    - <font size=\"3\">String</font>\n",
    "    - <font size=\"3\">Boolean</font>"
   ]
  },
  {
   "cell_type": "markdown",
   "id": "bc980e84",
   "metadata": {},
   "source": [
    "## Integer"
   ]
  },
  {
   "cell_type": "markdown",
   "id": "4e6951d8",
   "metadata": {},
   "source": [
    "- <font size=\"3\">An integer (<span style=\"color: blue;\"><b>int</b></span>) is a whole number without commas that could hold a zero, positive or negative value</font>\n",
    "- <font size=3>Operation is a way to perform on values to produce other values</font>\n",
    "- <font size=3>Expression consists of operands (value) and operators (symbol)</font>\n",
    "- <font size=3>Standard Arithmetic</font>\n",
    "    - <font size=3>Operators: addition(+), subtraction (-), multiplication (*), division (/), and remainder or modulo (%)</font>\n",
    "- <font size=3>Compare</font>\n",
    "    - <font size=3>Operators: ==, >, <, >=, <=, !=</font>"
   ]
  },
  {
   "cell_type": "code",
   "execution_count": 1,
   "id": "c702ce4b",
   "metadata": {},
   "outputs": [
    {
     "data": {
      "text/plain": [
       "25"
      ]
     },
     "execution_count": 1,
     "metadata": {},
     "output_type": "execute_result"
    }
   ],
   "source": [
    "25"
   ]
  },
  {
   "cell_type": "code",
   "execution_count": 2,
   "id": "851d3524",
   "metadata": {},
   "outputs": [
    {
     "data": {
      "text/plain": [
       "-23"
      ]
     },
     "execution_count": 2,
     "metadata": {},
     "output_type": "execute_result"
    }
   ],
   "source": [
    "-23"
   ]
  },
  {
   "cell_type": "code",
   "execution_count": 3,
   "id": "eaee4f48",
   "metadata": {},
   "outputs": [
    {
     "data": {
      "text/plain": [
       "0"
      ]
     },
     "execution_count": 3,
     "metadata": {},
     "output_type": "execute_result"
    }
   ],
   "source": [
    "0"
   ]
  },
  {
   "cell_type": "code",
   "execution_count": 4,
   "id": "1cdd0fb0",
   "metadata": {},
   "outputs": [
    {
     "data": {
      "text/plain": [
       "int"
      ]
     },
     "execution_count": 4,
     "metadata": {},
     "output_type": "execute_result"
    }
   ],
   "source": [
    "type(25)"
   ]
  },
  {
   "cell_type": "code",
   "execution_count": 5,
   "id": "7ed0d87e",
   "metadata": {},
   "outputs": [
    {
     "data": {
      "text/plain": [
       "27"
      ]
     },
     "execution_count": 5,
     "metadata": {},
     "output_type": "execute_result"
    }
   ],
   "source": [
    "12+15"
   ]
  },
  {
   "cell_type": "code",
   "execution_count": 6,
   "id": "ba801f2c",
   "metadata": {},
   "outputs": [
    {
     "data": {
      "text/plain": [
       "7"
      ]
     },
     "execution_count": 6,
     "metadata": {},
     "output_type": "execute_result"
    }
   ],
   "source": [
    "10-3"
   ]
  },
  {
   "cell_type": "code",
   "execution_count": 7,
   "id": "34c7d7a1",
   "metadata": {},
   "outputs": [
    {
     "data": {
      "text/plain": [
       "15"
      ]
     },
     "execution_count": 7,
     "metadata": {},
     "output_type": "execute_result"
    }
   ],
   "source": [
    "5*3"
   ]
  },
  {
   "cell_type": "code",
   "execution_count": 8,
   "id": "87c27baa",
   "metadata": {},
   "outputs": [
    {
     "data": {
      "text/plain": [
       "2.0"
      ]
     },
     "execution_count": 8,
     "metadata": {},
     "output_type": "execute_result"
    }
   ],
   "source": [
    "8/4"
   ]
  },
  {
   "cell_type": "code",
   "execution_count": 9,
   "id": "d704f3f5",
   "metadata": {},
   "outputs": [
    {
     "data": {
      "text/plain": [
       "0"
      ]
     },
     "execution_count": 9,
     "metadata": {},
     "output_type": "execute_result"
    }
   ],
   "source": [
    "6%3"
   ]
  },
  {
   "cell_type": "code",
   "execution_count": 10,
   "id": "bac85abf",
   "metadata": {},
   "outputs": [
    {
     "data": {
      "text/plain": [
       "True"
      ]
     },
     "execution_count": 10,
     "metadata": {},
     "output_type": "execute_result"
    }
   ],
   "source": [
    "10 == 10"
   ]
  },
  {
   "cell_type": "code",
   "execution_count": 11,
   "id": "e94e0e4a",
   "metadata": {},
   "outputs": [
    {
     "data": {
      "text/plain": [
       "False"
      ]
     },
     "execution_count": 11,
     "metadata": {},
     "output_type": "execute_result"
    }
   ],
   "source": [
    "3 > 6"
   ]
  },
  {
   "cell_type": "code",
   "execution_count": 12,
   "id": "444a4ca3",
   "metadata": {},
   "outputs": [
    {
     "data": {
      "text/plain": [
       "True"
      ]
     },
     "execution_count": 12,
     "metadata": {},
     "output_type": "execute_result"
    }
   ],
   "source": [
    "15 < 30"
   ]
  },
  {
   "cell_type": "markdown",
   "id": "27fc66c4",
   "metadata": {},
   "source": [
    "## Float"
   ]
  },
  {
   "cell_type": "markdown",
   "id": "5345f496",
   "metadata": {},
   "source": [
    "- <font size=3>Float (<span style=\"color: blue;\"><b>float</b></span>) represents real numbers which are numbers containing a decimal point</font>"
   ]
  },
  {
   "cell_type": "code",
   "execution_count": 13,
   "id": "2a11bb2b",
   "metadata": {},
   "outputs": [
    {
     "data": {
      "text/plain": [
       "25.33"
      ]
     },
     "execution_count": 13,
     "metadata": {},
     "output_type": "execute_result"
    }
   ],
   "source": [
    "25.33"
   ]
  },
  {
   "cell_type": "code",
   "execution_count": 14,
   "id": "448cc40c",
   "metadata": {},
   "outputs": [
    {
     "data": {
      "text/plain": [
       "45.2424"
      ]
     },
     "execution_count": 14,
     "metadata": {},
     "output_type": "execute_result"
    }
   ],
   "source": [
    "45.2424"
   ]
  },
  {
   "cell_type": "code",
   "execution_count": 15,
   "id": "cfd6f2a4",
   "metadata": {},
   "outputs": [
    {
     "data": {
      "text/plain": [
       "float"
      ]
     },
     "execution_count": 15,
     "metadata": {},
     "output_type": "execute_result"
    }
   ],
   "source": [
    "type(25.33)"
   ]
  },
  {
   "cell_type": "code",
   "execution_count": 16,
   "id": "00c4ccbc",
   "metadata": {},
   "outputs": [
    {
     "data": {
      "text/plain": [
       "70.5724"
      ]
     },
     "execution_count": 16,
     "metadata": {},
     "output_type": "execute_result"
    }
   ],
   "source": [
    "25.33 + 45.2424"
   ]
  },
  {
   "cell_type": "code",
   "execution_count": 17,
   "id": "bd162623",
   "metadata": {},
   "outputs": [
    {
     "data": {
      "text/plain": [
       "False"
      ]
     },
     "execution_count": 17,
     "metadata": {},
     "output_type": "execute_result"
    }
   ],
   "source": [
    "25.33 >= 45.2424"
   ]
  },
  {
   "cell_type": "markdown",
   "id": "c66801e1",
   "metadata": {},
   "source": [
    "## String"
   ]
  },
  {
   "cell_type": "markdown",
   "id": "e372ada5",
   "metadata": {},
   "source": [
    "- <font size=3>String represents a sequence of characters (text) inside double or single quotes</font>\n",
    "- <font size=3>Concatenation (+): join two or more strings to form a new string\n",
    "</font>\n",
    "- <font size=3>Repetition (*): build a string by repeating another string/symbol a given number of times</font>"
   ]
  },
  {
   "cell_type": "code",
   "execution_count": 18,
   "id": "bc8fbb56",
   "metadata": {},
   "outputs": [
    {
     "data": {
      "text/plain": [
       "'Hello'"
      ]
     },
     "execution_count": 18,
     "metadata": {},
     "output_type": "execute_result"
    }
   ],
   "source": [
    "\"Hello\""
   ]
  },
  {
   "cell_type": "code",
   "execution_count": 19,
   "id": "a102347a",
   "metadata": {},
   "outputs": [
    {
     "data": {
      "text/plain": [
       "'Hello'"
      ]
     },
     "execution_count": 19,
     "metadata": {},
     "output_type": "execute_result"
    }
   ],
   "source": [
    "'Hello'"
   ]
  },
  {
   "cell_type": "code",
   "execution_count": 20,
   "id": "fa7cd791",
   "metadata": {},
   "outputs": [
    {
     "data": {
      "text/plain": [
       "'Hello there, Python!'"
      ]
     },
     "execution_count": 20,
     "metadata": {},
     "output_type": "execute_result"
    }
   ],
   "source": [
    "\"Hello\"+\" there, \"+\"Python!\" "
   ]
  },
  {
   "cell_type": "code",
   "execution_count": 21,
   "id": "fd1d9a7b",
   "metadata": {},
   "outputs": [
    {
     "data": {
      "text/plain": [
       "'HiHiHi'"
      ]
     },
     "execution_count": 21,
     "metadata": {},
     "output_type": "execute_result"
    }
   ],
   "source": [
    "\"Hi\"*3"
   ]
  },
  {
   "cell_type": "code",
   "execution_count": 22,
   "id": "4c06d21a",
   "metadata": {},
   "outputs": [
    {
     "data": {
      "text/plain": [
       "'❤❤❤'"
      ]
     },
     "execution_count": 22,
     "metadata": {},
     "output_type": "execute_result"
    }
   ],
   "source": [
    "\"❤\"*3"
   ]
  },
  {
   "cell_type": "markdown",
   "id": "5a8afe54",
   "metadata": {},
   "source": [
    "## Boolean"
   ]
  },
  {
   "cell_type": "markdown",
   "id": "d3714218",
   "metadata": {},
   "source": [
    "- <font size=3>Booleans are used to represent truth values with two constant objects <span style=\"color: blue;\">True</span> and <span style=\"color: blue;\">False</span></font>"
   ]
  },
  {
   "cell_type": "code",
   "execution_count": 23,
   "id": "a011a034",
   "metadata": {},
   "outputs": [
    {
     "data": {
      "text/plain": [
       "True"
      ]
     },
     "execution_count": 23,
     "metadata": {},
     "output_type": "execute_result"
    }
   ],
   "source": [
    "True"
   ]
  },
  {
   "cell_type": "code",
   "execution_count": 24,
   "id": "ce0283ea",
   "metadata": {},
   "outputs": [
    {
     "data": {
      "text/plain": [
       "bool"
      ]
     },
     "execution_count": 24,
     "metadata": {},
     "output_type": "execute_result"
    }
   ],
   "source": [
    "type(True)"
   ]
  },
  {
   "cell_type": "code",
   "execution_count": 25,
   "id": "b86447f9",
   "metadata": {},
   "outputs": [
    {
     "data": {
      "text/plain": [
       "False"
      ]
     },
     "execution_count": 25,
     "metadata": {},
     "output_type": "execute_result"
    }
   ],
   "source": [
    "False"
   ]
  },
  {
   "cell_type": "code",
   "execution_count": 26,
   "id": "d5263203",
   "metadata": {},
   "outputs": [
    {
     "data": {
      "text/plain": [
       "bool"
      ]
     },
     "execution_count": 26,
     "metadata": {},
     "output_type": "execute_result"
    }
   ],
   "source": [
    "type(False)"
   ]
  },
  {
   "cell_type": "markdown",
   "id": "94614448",
   "metadata": {},
   "source": [
    "## Escape Sequences"
   ]
  },
  {
   "cell_type": "markdown",
   "id": "2236c5ec",
   "metadata": {},
   "source": [
    "- <font size=3>Escape Sequences is a special character sequences to control how to display string. These sequences consist of two or more characters and begin with a back slash (\\\\)\n",
    "</font>"
   ]
  },
  {
   "attachments": {
    "Escape_Sequence.PNG": {
     "image/png": "[encoded data removed]"
    }
   },
   "cell_type": "markdown",
   "id": "bd979c7a",
   "metadata": {},
   "source": [
    "![Escape_Sequence.PNG](attachment:Escape_Sequence.PNG)"
   ]
  },
  {
   "cell_type": "markdown",
   "id": "99e0fbe1",
   "metadata": {},
   "source": [
    "## Comments"
   ]
  },
  {
   "cell_type": "markdown",
   "id": "4ad53d0d",
   "metadata": {},
   "source": [
    "- <font size =3>A piece of program text that the computer ignores but that provides useful documentation to programmers</font>\n",
    "- <font size =3>In python, use ‘#’ follow by a sentence</font>\n",
    "- <font size =3>Docstring: a multi-line string inside the triple quote (\"\"\") </font>"
   ]
  },
  {
   "cell_type": "code",
   "execution_count": null,
   "id": "d2939557",
   "metadata": {
    "scrolled": true
   },
   "outputs": [],
   "source": [
    "\"\"\"\n",
    "Program: convertLength.py\n",
    "Author: Jarutas Andritsch\n",
    "Last date modified: 20/06/22\n",
    "The purpose of this program is to convert the length in meters to feet. The input is an integer \n",
    "or floating-point number representing the wire length in meters. The output is a floating-point \n",
    "number labeled as the wire length in feet.\n",
    "\"\"\"\n",
    "\n",
    "# length in meters\n",
    "100\n",
    "\n",
    "# convert ratio\n",
    "3.281\n",
    "\n",
    "# length in feet from meters\n",
    "100*3.281"
   ]
  },
  {
   "cell_type": "markdown",
   "id": "30e40682",
   "metadata": {},
   "source": [
    "***"
   ]
  },
  {
   "cell_type": "markdown",
   "id": "b79ca7cc",
   "metadata": {},
   "source": [
    "# Variable"
   ]
  },
  {
   "cell_type": "markdown",
   "id": "1c847a28",
   "metadata": {},
   "source": [
    "- <font size=3>Variables are containers for storing data values</font>\n",
    "- <font size=3>Variables have three important characteristics</font>\n",
    "    - <font size=3>A name</font>\n",
    "    - <font size=3>A corresponding memory location where data can be stored</font>\n",
    "    - <font size=3>Changeable (mutable) value</font>\n",
    "- <font size=3>You can refer to the value by the variablename</font>"
   ]
  },
  {
   "cell_type": "code",
   "execution_count": 28,
   "id": "fffcb395",
   "metadata": {},
   "outputs": [],
   "source": [
    "meters = 100"
   ]
  },
  {
   "cell_type": "code",
   "execution_count": 29,
   "id": "f77f6330",
   "metadata": {},
   "outputs": [],
   "source": [
    "ratio = 3.281"
   ]
  },
  {
   "cell_type": "code",
   "execution_count": 30,
   "id": "f0174bd9",
   "metadata": {},
   "outputs": [],
   "source": [
    "feets = meters * ratio"
   ]
  },
  {
   "cell_type": "code",
   "execution_count": 31,
   "id": "a64c0d2c",
   "metadata": {},
   "outputs": [
    {
     "data": {
      "text/plain": [
       "328.1"
      ]
     },
     "execution_count": 31,
     "metadata": {},
     "output_type": "execute_result"
    }
   ],
   "source": [
    "feets"
   ]
  },
  {
   "cell_type": "markdown",
   "id": "d2e75663",
   "metadata": {},
   "source": [
    "## General variable naming conventions"
   ]
  },
  {
   "cell_type": "markdown",
   "id": "3d70974b",
   "metadata": {},
   "source": [
    "- <font size=3>In Python, you **cannot** use reserved words (language's built-in functions) such as <span style=\"color: green;\">print</span>, <span style=\"color: green;\">if</span>, <span style=\"color: green;\">def</span>, and <span style=\"color: green;\">import</span>. In cell, the reserved words will display with gree colour font</font>\n",
    "- <font size=3>Names should be descriptive</font>\n",
    "- <font size=3>Python variable names must start with a letter or an underscore</font>\n",
    "- <font size=3>Name can contain any number of letters, digits, or _</font>\n",
    "- <font size=3>Python has no command for declaring a variable. A variable is created the moment you first assign a value to it</font>"
   ]
  },
  {
   "cell_type": "code",
   "execution_count": 32,
   "id": "ff54e3dd",
   "metadata": {},
   "outputs": [],
   "source": [
    "weight =45.0"
   ]
  },
  {
   "cell_type": "code",
   "execution_count": 34,
   "id": "e1ae6e83",
   "metadata": {},
   "outputs": [],
   "source": [
    "examscore3 = 100"
   ]
  },
  {
   "cell_type": "markdown",
   "id": "43027a7e",
   "metadata": {},
   "source": [
    "### Combining words for variable names"
   ]
  },
  {
   "cell_type": "markdown",
   "id": "a5eed341",
   "metadata": {},
   "source": [
    "- <font size=3>**Camel case** begins with a lowercase letter, but each subsequent word is capitalized</font>"
   ]
  },
  {
   "cell_type": "code",
   "execution_count": null,
   "id": "1d8fad82",
   "metadata": {},
   "outputs": [],
   "source": [
    "FirstName = \"Jarutas\""
   ]
  },
  {
   "cell_type": "markdown",
   "id": "4ae76b7a",
   "metadata": {},
   "source": [
    "- <font size=3>**Snake case** uses all lowercase and separates words with an underscore</font>"
   ]
  },
  {
   "cell_type": "code",
   "execution_count": null,
   "id": "9ac6bf70",
   "metadata": {},
   "outputs": [],
   "source": [
    "last_name = \"Andritsch\""
   ]
  },
  {
   "cell_type": "markdown",
   "id": "0fd32787",
   "metadata": {},
   "source": [
    "***"
   ]
  },
  {
   "cell_type": "markdown",
   "id": "ba442aad",
   "metadata": {},
   "source": [
    "# Basic Input and Output"
   ]
  },
  {
   "cell_type": "markdown",
   "id": "b1c3f470",
   "metadata": {},
   "source": [
    "## Output"
   ]
  },
  {
   "cell_type": "markdown",
   "id": "fb706f80",
   "metadata": {},
   "source": [
    "- <font size=3>Sending out data to standard output (a text stream on screen</font>\n",
    "- <font size=3>The communication channel with the users</font>\n",
    "- <font size=3>In python, there is a built-in function <span style=\"color: green;\">print</span> to display characters on the screen</font>\n",
    "- <font size=\"3\"><b>Syntax:</b></font><br>\n",
    "&emsp;&emsp;&emsp;&emsp;<font size=\"3\"> <span style=\"color: green;\"><b>print</b></span>(variable/message)"
   ]
  },
  {
   "cell_type": "code",
   "execution_count": 35,
   "id": "b9b96b4b",
   "metadata": {},
   "outputs": [
    {
     "name": "stdout",
     "output_type": "stream",
     "text": [
      "Hello, Python\n"
     ]
    }
   ],
   "source": [
    "# Display message to standard output\n",
    "print(\"Hello, Python\")"
   ]
  },
  {
   "cell_type": "code",
   "execution_count": 36,
   "id": "4510b84b",
   "metadata": {},
   "outputs": [
    {
     "name": "stdout",
     "output_type": "stream",
     "text": [
      "\n",
      "Python is a widely-used general-purpose, high-level programming language. \n",
      "It was initially designed by Guido van Rossum in 1991 and developed by \n",
      "Python Software Foundation.\n",
      "\n"
     ]
    }
   ],
   "source": [
    "# Display multiple line message\n",
    "print(\"\"\"\n",
    "Python is a widely-used general-purpose, high-level programming language. \n",
    "It was initially designed by Guido van Rossum in 1991 and developed by \n",
    "Python Software Foundation.\n",
    "\"\"\")"
   ]
  },
  {
   "cell_type": "code",
   "execution_count": 37,
   "id": "b475b161",
   "metadata": {},
   "outputs": [
    {
     "name": "stdout",
     "output_type": "stream",
     "text": [
      "15\n"
     ]
    }
   ],
   "source": [
    "# Display value in a variable\n",
    "result = 5*3\n",
    "print(result)"
   ]
  },
  {
   "cell_type": "markdown",
   "id": "62fcc075",
   "metadata": {},
   "source": [
    "### Formatting output: String"
   ]
  },
  {
   "cell_type": "markdown",
   "id": "c8bb6ccf",
   "metadata": {},
   "source": [
    "- <font size=3>Formatted string literals also called **f-string** for short let you include the value of python expression inside a string by prefixing the string with **f** or **F** and writing python expression</font>\n",
    "- <font size=3>Format specifiers for types, padding, or aligning are specified after the colon character</font>\n",
    "- <font size=\"3\"><b>Syntax:</b></font><br>\n",
    "&emsp;&emsp;&emsp;&emsp;<font size=\"3\"> <span style=\"color: green;\"><b>print</b></span>(<span style=\"color: red;\">f</span>\"string{value or variable: format specifiers}\")"
   ]
  },
  {
   "cell_type": "code",
   "execution_count": 38,
   "id": "850152b5",
   "metadata": {},
   "outputs": [
    {
     "name": "stdout",
     "output_type": "stream",
     "text": [
      "Hello Jarutas Andritsch, nice to meet you\n"
     ]
    }
   ],
   "source": [
    "# Display value using formatted string\n",
    "name = \"Jarutas Andritsch\"\n",
    "\n",
    "print(f\"Hello {name}, nice to meet you\")"
   ]
  },
  {
   "cell_type": "code",
   "execution_count": 39,
   "id": "ccae6376",
   "metadata": {},
   "outputs": [
    {
     "name": "stdout",
     "output_type": "stream",
     "text": [
      "right-justify:     python\n",
      "center:   python  \n",
      "left-justify: python    \n"
     ]
    }
   ],
   "source": [
    "#Alignment output: Left-justify, center, right-justify\n",
    "message = \"python\"\n",
    "\n",
    "print(f\"right-justify: {message:>10}\")\n",
    "print(f\"center: {message:^10}\")\n",
    "print(f\"left-justify: {message:<10}\")"
   ]
  },
  {
   "cell_type": "markdown",
   "id": "13a1cd14",
   "metadata": {},
   "source": [
    "### Exercise 1: Display your name with right-justify of 50 characters length [10 mins]"
   ]
  },
  {
   "cell_type": "code",
   "execution_count": 43,
   "id": "2e6167b9",
   "metadata": {},
   "outputs": [
    {
     "name": "stdout",
     "output_type": "stream",
     "text": [
      "right-justify:                 Piladuwa Maha Bogahawattage Gayomi\n",
      "----------------Piladuwa Maha Bogahawattage Gayomi\n"
     ]
    }
   ],
   "source": [
    "# Write your code here\n",
    "name = 'Piladuwa Maha Bogahawattage Gayomi'\n",
    "\n",
    "print(f'right-justify: {name:>50}')\n",
    "print(f'{name:->50}')"
   ]
  },
  {
   "cell_type": "markdown",
   "id": "162f57e7",
   "metadata": {},
   "source": [
    "- <font size=3>By default, the print function adds a new line (\\n) to the end of a line</font>\n",
    "- <font size=3>However, by using **end=\"\"** we have specified that an empty string (\"\") should be added to the end of the printed line instead of a new line (\\n)</font>\n",
    "- <font size=\"3\"><b>Syntax:</b></font><br>\n",
    "&emsp;&emsp;&emsp;&emsp;<font size=\"3\"> <span style=\"color: green;\"><b>print</b></span>(<span style=\"color: red;\">f</span>\"string{expression}\", end=\"\")"
   ]
  },
  {
   "cell_type": "code",
   "execution_count": 44,
   "id": "5e5bd5c7",
   "metadata": {},
   "outputs": [
    {
     "name": "stdout",
     "output_type": "stream",
     "text": [
      "My name is Jarutas Andritsch, I'm a Lecturer at Solent University\n"
     ]
    }
   ],
   "source": [
    "# Display value using formatted string in a same line\n",
    "name = \"Jarutas Andritsch\"\n",
    "occupation = \"Lecturer\"\n",
    "\n",
    "print(f\"My name is {name}, \", end=\"\")\n",
    "print(f\"I'm a {occupation} at Solent University\")"
   ]
  },
  {
   "cell_type": "markdown",
   "id": "c9b3e450",
   "metadata": {},
   "source": [
    "### Formatting Output: floating point"
   ]
  },
  {
   "cell_type": "code",
   "execution_count": 47,
   "id": "2fe16025",
   "metadata": {},
   "outputs": [
    {
     "name": "stdout",
     "output_type": "stream",
     "text": [
      "Original value: 4.430500\n",
      "Three decimal places: 4.431\n",
      "Width of 9 with three decimal places:     4.431\n"
     ]
    }
   ],
   "source": [
    "average = 4.43050\n",
    "\n",
    "# Display floating point with formatting parameters\n",
    "print(f\"Original value: {average:f}\")\n",
    "print(f\"Three decimal places: {average:.3f}\")\n",
    "print(f\"Width of 9 with three decimal places: {average:9.3f}\")"
   ]
  },
  {
   "cell_type": "markdown",
   "id": "7a5ee33a",
   "metadata": {},
   "source": [
    "### Exercise 2: Display float number with 2 decimal places [10 mins]"
   ]
  },
  {
   "cell_type": "code",
   "execution_count": 49,
   "id": "925e9355",
   "metadata": {},
   "outputs": [
    {
     "name": "stdout",
     "output_type": "stream",
     "text": [
      "5.56\n"
     ]
    }
   ],
   "source": [
    "# Write your code here\n",
    "average = 5.5555\n",
    "\n",
    "print(f'{average:.2f}')\n",
    "\n"
   ]
  },
  {
   "cell_type": "markdown",
   "id": "7adfd883",
   "metadata": {},
   "source": [
    "## Input"
   ]
  },
  {
   "cell_type": "markdown",
   "id": "501537b3",
   "metadata": {},
   "source": [
    "- <font size=3>Receive data from a user to a variable</font>\n",
    "- <font size=3>Python allows us to read user input using the built-in function <span style=\"color: green;\">input</span></font>\n",
    "- <font size=\"3\"><b>Syntax:</b></font><br>\n",
    "&emsp;&emsp;&emsp;&emsp;<font size=\"3\"> variable = <span style=\"color: green;\"><b>input</b></span>(\"string prompt\"\")\n",
    "- <font size=3>The input function always builds a string from the user’s keystrokes and returns it to the program</font>\n",
    "    - <font size=3>Strings that represent numbers must be converted from strings to appropriate number types\n",
    ", you can use <span style=\"color: green;\">int()</span> or <span style=\"color: green;\">float()</span> function to convert string to integer or float</font>\n",
    "    - <font size=\"3\"><b>Format:</b></font><br>\n",
    "&emsp;&emsp;&emsp;&emsp;<font size=\"3\">variable = <span style=\"color: green;\"><b>int(input</b></span> (\"string prompt\")<span style=\"color: green;\"><b>)</b></span><br> or <br>\n",
    "    &emsp;&emsp;&emsp;&emsp;<font size=\"3\">variable = <span style=\"color: green;\"><b>float(input</b></span> (\"string prompt\")<span style=\"color: green;\"><b>)</b></span>"
   ]
  },
  {
   "cell_type": "code",
   "execution_count": 53,
   "id": "4bf9dd1c",
   "metadata": {},
   "outputs": [
    {
     "name": "stdout",
     "output_type": "stream",
     "text": [
      "What is your name: Gayomi\n",
      "It is nice to meet you, Gayomi\n"
     ]
    }
   ],
   "source": [
    "#Read in a user's name\n",
    "name = input(\"What is your name: \")\n",
    "\n",
    "print(f\"It is nice to meet you, {name}\")"
   ]
  },
  {
   "cell_type": "code",
   "execution_count": 54,
   "id": "cc0f71e4",
   "metadata": {},
   "outputs": [
    {
     "name": "stdout",
     "output_type": "stream",
     "text": [
      "Enter your weight (kg): 60\n",
      "Enter your height (meters): 5.3\n",
      "Your BMI is 2.14\n"
     ]
    }
   ],
   "source": [
    "#Read in user's data and convert to proper data type and display the result\n",
    "weight = float(input(\"Enter your weight (kg): \"))\n",
    "height = float(input(\"Enter your height (meters): \"))\n",
    "\n",
    "bmi = weight/(height*height)\n",
    "print(f\"Your BMI is {bmi:.2f}\")"
   ]
  },
  {
   "cell_type": "markdown",
   "id": "945c8c65",
   "metadata": {},
   "source": [
    "### Exercise 3: Calculate age from the year of birth and the current year [10 mins]"
   ]
  },
  {
   "cell_type": "code",
   "execution_count": 55,
   "id": "5ac81e95",
   "metadata": {},
   "outputs": [
    {
     "name": "stdout",
     "output_type": "stream",
     "text": [
      "What is your year of birth:1988\n",
      "Enter the current year:2023\n",
      "Your age is 35\n"
     ]
    }
   ],
   "source": [
    "# Write your code here\n",
    "#input: year of birth, current year\n",
    "#output: age\n",
    "#process: age-->current year - year of birth\n",
    "\n",
    "Year_of_birth = int(input('What is your year of birth:'))\n",
    "Current_year = int(input('Enter the current year:'))\n",
    "\n",
    "\n",
    "Age = Current_year-Year_of_birth\n",
    "\n",
    "print(f'Your age is {Age}')\n"
   ]
  },
  {
   "cell_type": "markdown",
   "id": "b1dd5895",
   "metadata": {},
   "source": [
    "### Exercise 4: Convert the amount of days to years [10 mins]"
   ]
  },
  {
   "cell_type": "code",
   "execution_count": null,
   "id": "adfb2320",
   "metadata": {},
   "outputs": [],
   "source": [
    "# Write your code here\n"
   ]
  },
  {
   "cell_type": "markdown",
   "id": "51d0f452",
   "metadata": {},
   "source": [
    "## Activity: Choose the basic computational problem from your interest or experience. Design your solution based on problem solving process to solve that problem [20 mins]"
   ]
  },
  {
   "cell_type": "markdown",
   "id": "1ba462bb",
   "metadata": {},
   "source": [
    "Problem solving process:<br>\n",
    "- Step 1: Understand the problem\n",
    "- Step 2: Devise a plan\n",
    "- Step 3: Carry out the plan \n",
    "- Step 4: Test and verify"
   ]
  },
  {
   "cell_type": "code",
   "execution_count": null,
   "id": "d853401f",
   "metadata": {},
   "outputs": [],
   "source": [
    "# Write your code here\n"
   ]
  },
  {
   "cell_type": "markdown",
   "id": "d3b8d64c",
   "metadata": {},
   "source": [
    "***"
   ]
  },
  {
   "cell_type": "markdown",
   "id": "e6ba030d",
   "metadata": {},
   "source": [
    "# Summary"
   ]
  },
  {
   "cell_type": "markdown",
   "id": "05106e09",
   "metadata": {},
   "source": [
    "- <font size=3>int and float is a numeric data types</font>\n",
    "- <font size=3>String data types is used to represent text for input and output\n",
    "</font>\n",
    "- <font size=3>Comments are pieces of code not evaluated by the interpreter but can be read by programmers to obtain information about a program</font>\n",
    "- <font size=3>Variables are names that refer to values\n",
    "</font>\n",
    "- <font size=3>Python built-in function input() uses for receive data from keyboard</font>\n",
    "- <font size=3>Python built-in function print() uses for display data to text stream on screen</font>"
   ]
  },
  {
   "cell_type": "markdown",
   "id": "303a08b4",
   "metadata": {},
   "source": [
    "***"
   ]
  }
 ],
 "metadata": {
  "kernelspec": {
   "display_name": "Python 3 (ipykernel)",
   "language": "python",
   "name": "python3"
  },
  "language_info": {
   "codemirror_mode": {
    "name": "ipython",
    "version": 3
   },
   "file_extension": ".py",
   "mimetype": "text/x-python",
   "name": "python",
   "nbconvert_exporter": "python",
   "pygments_lexer": "ipython3",
   "version": "3.9.12"
  }
 },
 "nbformat": 4,
 "nbformat_minor": 5
}
